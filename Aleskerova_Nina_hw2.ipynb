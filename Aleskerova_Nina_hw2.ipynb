{
 "cells": [
  {
   "cell_type": "code",
   "execution_count": 1,
   "metadata": {},
   "outputs": [],
   "source": [
    "import numpy as np\n",
    "import scipy\n",
    "import scipy.stats as sps\n",
    "\n",
    "import statsmodels as sm\n",
    "import statsmodels.api as sma\n",
    "from statsmodels.stats.multitest import multipletests\n",
    "import pandas as pd\n",
    "import matplotlib.pyplot as plt"
   ]
  },
  {
   "cell_type": "markdown",
   "metadata": {},
   "source": [
    "# Homework 2\n",
    "## Hypothesis testing"
   ]
  },
  {
   "cell_type": "markdown",
   "metadata": {},
   "source": [
    "Each task is worth 5 points, 20 points in total. Additionally, some tasks allow you to get a bonus point, that **can not** increase your total score for the homework beyond the maximum, but can compensate for some occasionally lost points."
   ]
  },
  {
   "cell_type": "markdown",
   "metadata": {},
   "source": [
    "### Task 1: multiple comparisons"
   ]
  },
  {
   "cell_type": "markdown",
   "metadata": {},
   "source": [
    "A randomized, double-blind experiment was conducted to assess the\n",
    "effectiveness of several drugs for reducing postoperative nausea. The\n",
    "data are as follows:"
   ]
  },
  {
   "cell_type": "code",
   "execution_count": 2,
   "metadata": {},
   "outputs": [
    {
     "data": {
      "text/html": [
       "<div>\n",
       "<style scoped>\n",
       "    .dataframe tbody tr th:only-of-type {\n",
       "        vertical-align: middle;\n",
       "    }\n",
       "\n",
       "    .dataframe tbody tr th {\n",
       "        vertical-align: top;\n",
       "    }\n",
       "\n",
       "    .dataframe thead th {\n",
       "        text-align: right;\n",
       "    }\n",
       "</style>\n",
       "<table border=\"1\" class=\"dataframe\">\n",
       "  <thead>\n",
       "    <tr style=\"text-align: right;\">\n",
       "      <th></th>\n",
       "      <th>Drug</th>\n",
       "      <th>Number of Patients</th>\n",
       "      <th>Incidence of Nausea</th>\n",
       "    </tr>\n",
       "  </thead>\n",
       "  <tbody>\n",
       "    <tr>\n",
       "      <th>0</th>\n",
       "      <td>Placebo</td>\n",
       "      <td>80</td>\n",
       "      <td>45</td>\n",
       "    </tr>\n",
       "    <tr>\n",
       "      <th>1</th>\n",
       "      <td>Chlorpromazine</td>\n",
       "      <td>75</td>\n",
       "      <td>26</td>\n",
       "    </tr>\n",
       "    <tr>\n",
       "      <th>2</th>\n",
       "      <td>Dimenhydrinate</td>\n",
       "      <td>85</td>\n",
       "      <td>52</td>\n",
       "    </tr>\n",
       "    <tr>\n",
       "      <th>3</th>\n",
       "      <td>Pentobarbital (100 mg)</td>\n",
       "      <td>67</td>\n",
       "      <td>35</td>\n",
       "    </tr>\n",
       "    <tr>\n",
       "      <th>4</th>\n",
       "      <td>Pentobarbital (150 mg)</td>\n",
       "      <td>85</td>\n",
       "      <td>37</td>\n",
       "    </tr>\n",
       "  </tbody>\n",
       "</table>\n",
       "</div>"
      ],
      "text/plain": [
       "                     Drug  Number of Patients  Incidence of Nausea\n",
       "0                 Placebo                  80                   45\n",
       "1          Chlorpromazine                  75                   26\n",
       "2          Dimenhydrinate                  85                   52\n",
       "3  Pentobarbital (100 mg)                  67                   35\n",
       "4  Pentobarbital (150 mg)                  85                   37"
      ]
     },
     "execution_count": 2,
     "metadata": {},
     "output_type": "execute_result"
    }
   ],
   "source": [
    "df1 = pd.DataFrame({'Drug': ['Placebo', 'Chlorpromazine', 'Dimenhydrinate', 'Pentobarbital (100 mg)', 'Pentobarbital (150 mg)'],\n",
    "                    'Number of Patients': [80, 75, 85, 67, 85],\n",
    "                    'Incidence of Nausea': [45, 26, 52, 35, 37]})\n",
    "df1"
   ]
  },
  {
   "cell_type": "markdown",
   "metadata": {},
   "source": [
    "1. Test each drug versus the placebo at the 5% level. Also, report\n",
    "the estimated odds–ratios. Summarize your findings. (2 points)\n",
    "\n",
    "*Hint*. Use simple $H_0$: \"$p = p_0$\"."
   ]
  },
  {
   "cell_type": "markdown",
   "metadata": {},
   "source": [
    "##### Let us formulate hypotheses like this:\n",
    "$\\delta = p - p_0$, where $p_0$ is the measure of the placebo effectiveness.\n",
    "\n",
    "$H_0$: $p - p_0 = 0$ vs. $H_1$: $p - p_0 \\neq 0$.\n",
    "\n",
    "##### Since we can assume that our data distributed according to binomial distribution (~$Binom(n,p)$), then we know that for big values of $n$:\n",
    "##### $Binom(n, p) \\approx N(np, npq)$, so we can apply Wald test, which says that if $\\hat{\\theta}$ is asymptotically normal:\n",
    "##### $\\dfrac{\\hat{\\delta} - \\delta_0}{\\hat{se}} \\rightarrow N(0, 1)$\n",
    "#### then size $\\alpha$ Wald test rejects $H_0$ if $|W| > z_{\\alpha / 2}$, where $W = \\dfrac{\\hat{\\delta} - \\delta_0}{\\hat{se}}$.\n",
    "##### We'll estimate $p$ and $se$ as: \n",
    "$\\hat{\\delta} = \\hat{p} - \\hat{p_0}$\n",
    "\n",
    "$\\hat{p} = \\frac{\\sum_{i=1}^n X_i}{n} = \\frac{n_+}{n}$,\n",
    "\n",
    "$\\hat{se_i} = \\sqrt{\\frac{\\hat{p_i}(1-\\hat{p_i})}{n}}$\n",
    "\n",
    "$\\hat{se} = \\sqrt{\\hat{se}_1^2 + \\hat{se}_2^2}$"
   ]
  },
  {
   "cell_type": "code",
   "execution_count": 3,
   "metadata": {},
   "outputs": [
    {
     "name": "stdout",
     "output_type": "stream",
     "text": [
      "For drug Chlorpromazine got p-value = 0.005703391555257745\n",
      "Hypothesis H0 rejected\n",
      "\n",
      "For drug Dimenhydrinate got p-value = 0.5202323654229462\n",
      "Not enough reasons to reject hypothesis H0\n",
      "\n",
      "For drug Pentobarbital (100 mg) got p-value = 0.6266640947313886\n",
      "Not enough reasons to reject hypothesis H0\n",
      "\n",
      "For drug Pentobarbital (150 mg) got p-value = 0.09963923341820242\n",
      "Not enough reasons to reject hypothesis H0\n",
      "\n"
     ]
    }
   ],
   "source": [
    "p = [] # MLE for 'probability' of nausea\n",
    "n = [] #num patirnts for each griup\n",
    "p0 = (df1[df1.Drug == 'Placebo']['Incidence of Nausea'] / df1[df1.Drug == 'Placebo']['Number of Patients']).values[0]\n",
    "n0 = df1[df1.Drug == 'Placebo']['Number of Patients'].values[0]\n",
    "for drug in df1.Drug:\n",
    "    if (drug == 'Placebo'):\n",
    "        continue\n",
    "    else:\n",
    "        #df1['p'] = df1[df1.Drug == drug]['Incidence of Nausea'] / df1[df1.Drug == drug]['Number of Patients']).values[0]\n",
    "        p.append((df1[df1.Drug == drug]['Incidence of Nausea'] / df1[df1.Drug == drug]['Number of Patients']).values[0])\n",
    "        n.append((df1[df1.Drug == drug]['Number of Patients']).values[0])\n",
    "\n",
    "def wald_test_for_proba(mean1, mean2, n1, n2, alpha=0.05):\n",
    "    dif = mean1 - mean2\n",
    "    se = np.sqrt(mean1 * (1 - mean1) / n1 + mean2 * (1 - mean2) / n2)\n",
    "    z_a = sps.norm.ppf(1 - alpha / 2)\n",
    "    statistic = np.abs(dif / se)\n",
    "    is_h0 = statistic <= z_a\n",
    "    pvalue = 2 * sps.norm.cdf(-statistic)\n",
    "    return statistic, pvalue, is_h0\n",
    "\n",
    "for i in range(len(p)):\n",
    "    statistic, pvalue, is_h0 = wald_test_for_proba(p[i], p0, n[i], n0)\n",
    "\n",
    "    print(\"For drug \" + df1.iloc[i + 1].Drug +  \" got p-value = \" + str(pvalue))\n",
    "    #if (pvalue < 0.05):\n",
    "    if (not is_h0):\n",
    "        print(\"Hypothesis H0 rejected\\n\")\n",
    "    else:\n",
    "        print(\"Not enough reasons to reject hypothesis H0\\n\")"
   ]
  },
  {
   "cell_type": "code",
   "execution_count": 4,
   "metadata": {},
   "outputs": [
    {
     "name": "stdout",
     "output_type": "stream",
     "text": [
      "drug Chlorpromazine, odds: 0.41269841269841273\n",
      "More chances of nausea to occur for placebo than for this drug\n",
      "\n",
      "drug Dimenhydrinate, odds: 1.225589225589226\n",
      "Almost equal chances of nausea to occur for this drug and placebo\n",
      "\n",
      "drug Pentobarbital (100 mg), odds: 0.8506944444444444\n",
      "Almost equal chances of nausea to occur for this drug and placebo\n",
      "\n",
      "drug Pentobarbital (150 mg), odds: 0.5995370370370371\n",
      "More chances of nausea to occur for placebo than for this drug\n",
      "\n"
     ]
    }
   ],
   "source": [
    "for i in range(len(p)):\n",
    "    odds = p[i] * (1 - p0) / (p0 * (1 - p[i]))\n",
    "    print(\"drug \" + df1.iloc[i + 1].Drug + \", odds: \" + str(odds))\n",
    "    if (odds > 0.75 and odds < 1.25):\n",
    "        print(\"Almost equal chances of nausea to occur for this drug and placebo\\n\")\n",
    "    elif (odds > 0.9):\n",
    "        print(\"More chances of nausea to occur for this drug than for placebo\\n\")\n",
    "    else:\n",
    "        print(\"More chances of nausea to occur for placebo than for this drug\\n\")"
   ]
  },
  {
   "cell_type": "markdown",
   "metadata": {},
   "source": [
    "##### At 5% level of significance we can only reject the null hypothesis for Chlorpromazine (odds ratio confirms that it has lower chances to cause nausea than placebo which means it's effect is significantly different). But if we increase the significance level to 10% then we can also reject H0 for Pentobarbital (150 mg) and it corresponds to the odds-ratio."
   ]
  },
  {
   "cell_type": "markdown",
   "metadata": {},
   "source": [
    "2. Use the Bonferroni and the FDR method to adjust for multiple\n",
    "testing. (Beecher (1959)) (3 points)"
   ]
  },
  {
   "cell_type": "code",
   "execution_count": 5,
   "metadata": {},
   "outputs": [
    {
     "name": "stdout",
     "output_type": "stream",
     "text": [
      "Bonferroni:\n",
      "drug:  Chlorpromazine , reject H0:  True\n",
      "drug:  Dimenhydrinate , reject H0:  False\n",
      "drug:  Pentobarbital (100 mg) , reject H0:  False\n",
      "drug:  Pentobarbital (150 mg) , reject H0:  False\n",
      "\n",
      "Fdr-bh\n",
      "Is H0 rejected:\n",
      "[True, False, False, False]\n"
     ]
    }
   ],
   "source": [
    "pvalues_ttest = []\n",
    "alpha = 0.05\n",
    "bonferroni_test_pass = np.zeros(len(p))\n",
    "\n",
    "for i in range(len(p)):\n",
    "    hypothesis_mean = np.abs((p[i] - p0) / np.sqrt(p[i] * (1 - p[i]) / n[i] + p0 * (1 - p0) / n0))\n",
    "    pvalues_ttest.extend([2 * sps.norm.cdf(-hypothesis_mean)])#[sps.ttest_1samp(x, hypothesis_mean)[1]] \n",
    "\n",
    "#for method in [\"bonferroni\", \"fdr_bh\"]:\n",
    "#    print('Method: ', method)\n",
    "#    reject, pvals, _, _ = multipletests(pvalues_ttest, method=method, returnsorted=True)\n",
    "print(\"Bonferroni:\") \n",
    "for i in range(len(p)):\n",
    "    bonferroni_test_pass[i] = pvalues_ttest[i] < alpha / 4\n",
    "    drug = df1.iloc[i + 1]\n",
    "    print('drug: ', drug.values[0], ', reject H0: ', True if bonferroni_test_pass[i] else False)\n",
    "    \n",
    "print(\"\\nFdr-bh\")\n",
    "m = 4\n",
    "largest_i = 0\n",
    "fdr_bh = []\n",
    "sort_p = np.argsort(p)\n",
    "for i in range(len(p)):\n",
    "    sign = (i+1) * alpha / m\n",
    "    if (pvalues_ttest[sort_p[i]] >= sign):\n",
    "        fdr_bh.extend([True] * (m- i))\n",
    "        break\n",
    "    else:\n",
    "        fdr_bh.append(False)\n",
    "print(\"Is H0 rejected:\")\n",
    "print([not fdr_bh[i] for i in range(len(fdr_bh))])"
   ]
  },
  {
   "cell_type": "markdown",
   "metadata": {},
   "source": [
    "##### We got the same results for our significance level: $H_0$ is only rejected in first case for Chlorpromazine. Moreover, even if we increase $\\alpha$ to $0.1$ we'll still get the same result, which is different from the results above when for Pentobarbital (150 mg) we rejected $H_0$ for significance level equal to $0.1$. "
   ]
  },
  {
   "cell_type": "markdown",
   "metadata": {},
   "source": [
    "3. Reproduce plot similar to Figure 10.6 from the book, displaying observed $p$-values and different thresholds used (1 bonus point)"
   ]
  },
  {
   "cell_type": "code",
   "execution_count": 6,
   "metadata": {},
   "outputs": [
    {
     "data": {
      "image/png": "[encoded data removed]",
      "text/plain": [
       "<Figure size 504x504 with 1 Axes>"
      ]
     },
     "metadata": {
      "needs_background": "light"
     },
     "output_type": "display_data"
    }
   ],
   "source": [
    "plt.figure(figsize = (7, 7))\n",
    "plt.scatter(range(1, 5), np.sort(np.array(pvalues_ttest)) / np.arange(1, 5))\n",
    "plt.plot(range(1, 5), np.sort(np.array(pvalues_ttest))/ np.arange(1, 5), '--', label = 'pvalues')\n",
    "plt.plot(range(5), [alpha] * 5, label = 'alpha')\n",
    "plt.plot(range(5), [alpha / 4] * 5, label = 'Bonferroni: alpha / m')\n",
    "plt.plot(range(5), [i * alpha / 4 for i in range(5)], label = 'BH')\n",
    "plt.legend()\n",
    "plt.title(\"Different hypothesis testing\")\n",
    "plt.show()"
   ]
  },
  {
   "cell_type": "markdown",
   "metadata": {},
   "source": [
    "### Task 2: permutation test"
   ]
  },
  {
   "cell_type": "markdown",
   "metadata": {},
   "source": [
    "For this task we will use the famous Iris dataset, originaly studied by R.A. Fisher himself."
   ]
  },
  {
   "cell_type": "code",
   "execution_count": 7,
   "metadata": {
    "scrolled": true
   },
   "outputs": [
    {
     "data": {
      "text/html": [
       "<div>\n",
       "<style scoped>\n",
       "    .dataframe tbody tr th:only-of-type {\n",
       "        vertical-align: middle;\n",
       "    }\n",
       "\n",
       "    .dataframe tbody tr th {\n",
       "        vertical-align: top;\n",
       "    }\n",
       "\n",
       "    .dataframe thead th {\n",
       "        text-align: right;\n",
       "    }\n",
       "</style>\n",
       "<table border=\"1\" class=\"dataframe\">\n",
       "  <thead>\n",
       "    <tr style=\"text-align: right;\">\n",
       "      <th></th>\n",
       "      <th>sepal_length</th>\n",
       "      <th>sepal_width</th>\n",
       "      <th>petal_length</th>\n",
       "      <th>petal_width</th>\n",
       "      <th>species</th>\n",
       "    </tr>\n",
       "  </thead>\n",
       "  <tbody>\n",
       "    <tr>\n",
       "      <th>0</th>\n",
       "      <td>5.1</td>\n",
       "      <td>3.5</td>\n",
       "      <td>1.4</td>\n",
       "      <td>0.2</td>\n",
       "      <td>setosa</td>\n",
       "    </tr>\n",
       "    <tr>\n",
       "      <th>1</th>\n",
       "      <td>4.9</td>\n",
       "      <td>3.0</td>\n",
       "      <td>1.4</td>\n",
       "      <td>0.2</td>\n",
       "      <td>setosa</td>\n",
       "    </tr>\n",
       "    <tr>\n",
       "      <th>2</th>\n",
       "      <td>4.7</td>\n",
       "      <td>3.2</td>\n",
       "      <td>1.3</td>\n",
       "      <td>0.2</td>\n",
       "      <td>setosa</td>\n",
       "    </tr>\n",
       "    <tr>\n",
       "      <th>3</th>\n",
       "      <td>4.6</td>\n",
       "      <td>3.1</td>\n",
       "      <td>1.5</td>\n",
       "      <td>0.2</td>\n",
       "      <td>setosa</td>\n",
       "    </tr>\n",
       "    <tr>\n",
       "      <th>4</th>\n",
       "      <td>5.0</td>\n",
       "      <td>3.6</td>\n",
       "      <td>1.4</td>\n",
       "      <td>0.2</td>\n",
       "      <td>setosa</td>\n",
       "    </tr>\n",
       "  </tbody>\n",
       "</table>\n",
       "</div>"
      ],
      "text/plain": [
       "   sepal_length  sepal_width  petal_length  petal_width species\n",
       "0           5.1          3.5           1.4          0.2  setosa\n",
       "1           4.9          3.0           1.4          0.2  setosa\n",
       "2           4.7          3.2           1.3          0.2  setosa\n",
       "3           4.6          3.1           1.5          0.2  setosa\n",
       "4           5.0          3.6           1.4          0.2  setosa"
      ]
     },
     "execution_count": 7,
     "metadata": {},
     "output_type": "execute_result"
    }
   ],
   "source": [
    "iris = pd.read_csv('https://raw.githubusercontent.com/mwaskom/seaborn-data/master/iris.csv')\n",
    "iris.head()"
   ]
  },
  {
   "cell_type": "markdown",
   "metadata": {},
   "source": [
    "We will select two species: *setosa* and *virginica* and study the sepal length."
   ]
  },
  {
   "cell_type": "code",
   "execution_count": 8,
   "metadata": {},
   "outputs": [],
   "source": [
    "X = iris[iris.species == 'setosa']['sepal_width'].values\n",
    "Y = iris[iris.species == 'virginica']['sepal_width'].values"
   ]
  },
  {
   "cell_type": "code",
   "execution_count": 9,
   "metadata": {},
   "outputs": [
    {
     "data": {
      "text/plain": [
       "(50,)"
      ]
     },
     "execution_count": 9,
     "metadata": {},
     "output_type": "execute_result"
    }
   ],
   "source": [
    "X.shape"
   ]
  },
  {
   "cell_type": "markdown",
   "metadata": {},
   "source": [
    "Test the hypothesis $H_0$: quantile of level 0.2 (20 percentile, lower 20%) of the sepal length of *setosa* flowers is  larger than that of *virginica* flowers. Use permutation test, approximate the full permutation distribution with 10,000 samples. (5 points)\n"
   ]
  },
  {
   "cell_type": "code",
   "execution_count": 10,
   "metadata": {},
   "outputs": [
    {
     "data": {
      "text/plain": [
       "0.3999999999999999"
      ]
     },
     "execution_count": 10,
     "metadata": {},
     "output_type": "execute_result"
    }
   ],
   "source": [
    "qt_level = 0.2\n",
    "np.quantile(X, qt_level) - np.quantile(Y, qt_level)"
   ]
  },
  {
   "cell_type": "markdown",
   "metadata": {},
   "source": [
    "##### From this it look like quantile of level 0.2 of the sepal width of *setosa* flowers is  larger than that of *virginica* flowers. But in order to say how statistically signigicant if this result we need to perform permutation test. This means we'll join our two samples, permute it and take some new samples from it. Then we'll count the percentage of cases when the statistic on such samples is larger than on our gven samples. This percentage is our approximate p-value. If it's lower than the significance level then our outcome has proved to be statistically significant and we can reject $H_0$.\n",
    "##### $H_0$: \"quantiles of level 0.2 of both flowers are equal\"\n",
    "##### $H_1$: \"quantile of level 0.2 (20 percentile, lower 20%) of the sepal width of *setosa* flowers is  larger than that of *virginica* flowers\""
   ]
  },
  {
   "cell_type": "code",
   "execution_count": 11,
   "metadata": {},
   "outputs": [],
   "source": [
    "n_runs = 10000\n",
    "def T(X, Y, quantile_level = qt_level):\n",
    "    return np.quantile(X, quantile_level) - np.quantile(Y, quantile_level)"
   ]
  },
  {
   "cell_type": "code",
   "execution_count": 12,
   "metadata": {},
   "outputs": [],
   "source": [
    "def permutation_test(statistic, sample1, sample2, n_runs = n_runs):\n",
    "    l1 = len(sample1)\n",
    "    t_obs = statistic(sample1, sample2)\n",
    "    sample_joint = np.r_[sample1, sample2]\n",
    "    counter = 0\n",
    "    t_samp = []\n",
    "    for i in range(n_runs):\n",
    "        sample_joint = np.random.permutation(sample_joint)\n",
    "        t = statistic(sample_joint[:l1], sample_joint[l1:])\n",
    "        t_samp.append(t)\n",
    "        counter += t > t_obs\n",
    "\n",
    "    return counter / n_runs, t_samp"
   ]
  },
  {
   "cell_type": "code",
   "execution_count": 13,
   "metadata": {},
   "outputs": [
    {
     "name": "stdout",
     "output_type": "stream",
     "text": [
      "pvalue = 0.0\n"
     ]
    }
   ],
   "source": [
    "pvalue, samples = permutation_test(T, X, Y)\n",
    "print('pvalue =', pvalue)"
   ]
  },
  {
   "cell_type": "markdown",
   "metadata": {},
   "source": [
    "#### Such p-value tells us that the is almost no chances to see the difference between the quantile of level 0.2 of the sepal width of setosa flowers and the one of virginica flowers this large as it is in our case assuming that null hypothesis is true. This means that we reject the null hypothesis and accept alternative, but for our testing it only means that the quantiles are not equal. We cannot say for sure whether the quantile of level 0.2 of the sepal width of setosa flowers is larger than this quantile of virginica flowers.\n",
    "##### To illustrate our conclusions, let us look at the distribution of the simulated values that we got in permutation test. Since these are permuted values, it doesn't have to make a lot of sense but one thing still can be noticed. We can truly see that this distribution doesn't intersect with the value of difference of quantiles given in our dataset, not to mention exceed it."
   ]
  },
  {
   "cell_type": "code",
   "execution_count": 14,
   "metadata": {},
   "outputs": [
    {
     "name": "stderr",
     "output_type": "stream",
     "text": [
      "/home/nina/anaconda3/envs/venv/lib/python3.7/site-packages/ipykernel_launcher.py:7: UserWarning: Matplotlib is currently using module://ipykernel.pylab.backend_inline, which is a non-GUI backend, so cannot show the figure.\n",
      "  import sys\n"
     ]
    },
    {
     "data": {
      "image/png": "[encoded data removed]",
      "text/plain": [
       "<Figure size 576x576 with 1 Axes>"
      ]
     },
     "metadata": {
      "needs_background": "light"
     },
     "output_type": "display_data"
    }
   ],
   "source": [
    "fig, ax = plt.subplots(figsize=(8, 8))\n",
    "ax.axvline(T(X, Y), color='r', label='Given statistic')\n",
    "ax.hist(samples, density=True, bins=20, label='Simulated samples statistic')\n",
    "ax.legend()\n",
    "ax.set_title(\"Statistic histogram for quantiles\")\n",
    "ax.grid()\n",
    "fig.show()"
   ]
  },
  {
   "cell_type": "markdown",
   "metadata": {},
   "source": [
    "### Task 3: computational approach to hypothesis testing"
   ]
  },
  {
   "cell_type": "markdown",
   "metadata": {},
   "source": [
    "Recommended reading: http://allendowney.blogspot.com/2016/06/there-is-still-only-one-test.html"
   ]
  },
  {
   "cell_type": "markdown",
   "metadata": {},
   "source": [
    "Consider the following dataset (service hours between failures of the air-conditioning equipment in a Boeing 720 jet aircraft , Proschan, 1963):"
   ]
  },
  {
   "cell_type": "code",
   "execution_count": 15,
   "metadata": {},
   "outputs": [],
   "source": [
    "Y = np.array([3, 5, 7, 18, 43, 85, 91, 98, 100, 130, 230, 487])"
   ]
  },
  {
   "cell_type": "markdown",
   "metadata": {},
   "source": [
    "This sample was sorted for easier presentation."
   ]
  },
  {
   "cell_type": "markdown",
   "metadata": {},
   "source": [
    "1. Compute an estimate of the median time between failures (1 point)"
   ]
  },
  {
   "cell_type": "markdown",
   "metadata": {},
   "source": [
    "##### To estimate a median time we'll use sample median."
   ]
  },
  {
   "cell_type": "code",
   "execution_count": 16,
   "metadata": {},
   "outputs": [
    {
     "name": "stdout",
     "output_type": "stream",
     "text": [
      "Median time in hours: 88.0\n",
      "Median time in days: 3.6666666666666665\n"
     ]
    }
   ],
   "source": [
    "#time_bw_failure = np.array([Y[i] - Y[i-1] for i in range(1, len(Y))])\n",
    "#np.median(time_bw_failure)\n",
    "sample_med = np.median(Y)\n",
    "print(\"Median time in hours:\", sample_med)\n",
    "print(\"Median time in days:\", sample_med / 24.)"
   ]
  },
  {
   "cell_type": "markdown",
   "metadata": {},
   "source": [
    "2. Consider the null hypothesis $H_0$ to be: \"median time between failures is one week\" (1 point)"
   ]
  },
  {
   "cell_type": "markdown",
   "metadata": {},
   "source": [
    "##### H0 : median time between failures is equal to 168 hours ($median(Y) = 168$)\n",
    "##### H1 : median time  between failures is not equal to 168 hours ($median(Y) \\neq 168$)\n",
    "\n",
    "##### From the first look it seems that the null hypothesis isn't true because for our sample the deviation in sample median and proposed median is too big. But in order to get statistically significant result we have to choose a statistic and perform some tests for these hypotheses."
   ]
  },
  {
   "cell_type": "markdown",
   "metadata": {},
   "source": [
    "3. What distribution will you choose for this kind of data under $H_0$? (1 point)"
   ]
  },
  {
   "cell_type": "markdown",
   "metadata": {},
   "source": [
    "##### I think we should consider exponential distribution which is defined as a time between two consecutive occurrences of the same event which is relevant for our case. \n",
    "##### It has one parameter $\\lambda$ which is intensity or inverse scale factor and its median is equal to $ln(2)/\\lambda$.\n",
    "#####  We can also perform  quantile-quantile plot and see if this family of distributions looks suitable."
   ]
  },
  {
   "cell_type": "code",
   "execution_count": 17,
   "metadata": {},
   "outputs": [
    {
     "data": {
      "image/png": "[encoded data removed]",
      "text/plain": [
       "<Figure size 432x288 with 1 Axes>"
      ]
     },
     "metadata": {
      "needs_background": "light"
     },
     "output_type": "display_data"
    }
   ],
   "source": [
    "from statsmodels.graphics.gofplots import qqplot\n",
    "\n",
    "qqplot(Y, sps.expon,  line='45', fit=False, scale=np.mean(Y))\n",
    "plt.show()"
   ]
  },
  {
   "cell_type": "code",
   "execution_count": 18,
   "metadata": {},
   "outputs": [],
   "source": [
    "assumed_med = 168\n",
    "lambda0 = np.log(2) / assumed_med\n",
    "def exp_model(n_samples, lmbd = lambda0):\n",
    "    return sps.expon.rvs(scale = 1/lmbd, size = n_samples)"
   ]
  },
  {
   "cell_type": "markdown",
   "metadata": {},
   "source": [
    "4. Choose a statistic to measure the deviation from $H_0$ (effect size) (1 point)"
   ]
  },
  {
   "cell_type": "markdown",
   "metadata": {},
   "source": [
    "##### Since we have to chect whether the median is equal to 168 hours or not we can consider as a statistic a difference of the proposed median which is equal to 168 and the median of a sample. We also take a modulus of this difference because our goal is only to check whether if differs from $0$ or not."
   ]
  },
  {
   "cell_type": "code",
   "execution_count": 19,
   "metadata": {},
   "outputs": [],
   "source": [
    "def T(sample, sp_median = assumed_med):\n",
    "    return np.abs(np.median(sample) - sp_median)"
   ]
  },
  {
   "cell_type": "markdown",
   "metadata": {},
   "source": [
    "5. Check whether you can reject $H_0$ at significance level 5% and calculate the corresponding approximate $p$-value. Use 10,000 simulations for your experiment (1 point)"
   ]
  },
  {
   "cell_type": "markdown",
   "metadata": {},
   "source": [
    "##### We'll perform the procedure similar to the permutation test, but instead of doing permutation of the initial sample we'll take samples from exponential distribution and consider thether the statistic on this sample is larger than on the initial, given sample. By counting the percentage of such event, we'll have the p-value."
   ]
  },
  {
   "cell_type": "code",
   "execution_count": 20,
   "metadata": {},
   "outputs": [
    {
     "name": "stdout",
     "output_type": "stream",
     "text": [
      "Approximate p_value: 0.2135\n"
     ]
    }
   ],
   "source": [
    "alpha = 0.05\n",
    "n_runs = 10000\n",
    "\n",
    "def median_exp_test(X, statistic, model, n_runs = n_runs):\n",
    "    sampled_Y = []\n",
    "    t_obs = statistic(X)\n",
    "    size = X.shape[0]\n",
    "    counter = 0\n",
    "    for i in range(n_runs):\n",
    "        sample = model(size)\n",
    "        t = statistic(sample)\n",
    "        sampled_Y.append(t)\n",
    "        counter += (t > t_obs)\n",
    "    return counter / n_runs, sampled_Y\n",
    "\n",
    "p_value, t_sim = median_exp_test(Y, T, exp_model)\n",
    "print('Approximate p_value:', p_value)"
   ]
  },
  {
   "cell_type": "code",
   "execution_count": 21,
   "metadata": {},
   "outputs": [
    {
     "data": {
      "text/plain": [
       "True"
      ]
     },
     "execution_count": 21,
     "metadata": {},
     "output_type": "execute_result"
    }
   ],
   "source": [
    "p_value > 0.05"
   ]
  },
  {
   "cell_type": "markdown",
   "metadata": {},
   "source": [
    "##### We cannot reject the null hypothesis because the result is not statistically significant at level equal to 5%. \n",
    "##### We could only reject H0 with higher significance level (which means if we would accepted higher probability of making 1-type error - rejecting H0 when it's actually true). If we don't take such a risk we stay with our null hypothesis. "
   ]
  },
  {
   "cell_type": "markdown",
   "metadata": {},
   "source": [
    "6. Plot histogram of simulated effect sizes and mark the observed effect size (1 bouns point)"
   ]
  },
  {
   "cell_type": "code",
   "execution_count": 22,
   "metadata": {},
   "outputs": [
    {
     "name": "stderr",
     "output_type": "stream",
     "text": [
      "/home/nina/anaconda3/envs/venv/lib/python3.7/site-packages/ipykernel_launcher.py:8: UserWarning: Matplotlib is currently using module://ipykernel.pylab.backend_inline, which is a non-GUI backend, so cannot show the figure.\n",
      "  \n"
     ]
    },
    {
     "data": {
      "image/png": "[encoded data removed]",
      "text/plain": [
       "<Figure size 648x504 with 1 Axes>"
      ]
     },
     "metadata": {
      "needs_background": "light"
     },
     "output_type": "display_data"
    }
   ],
   "source": [
    "fig, ax = plt.subplots(figsize=(9, 7))\n",
    "ax.axvline(T(Y), color='b', label='Given statistic')\n",
    "ax.axvline(np.quantile(t_sim, 0.95), color='r', label='Quantile of significance level')\n",
    "ax.hist(t_sim, density=True, bins=50, label='Simulated samples statistic')\n",
    "ax.legend()\n",
    "ax.set_title(\"Statistic histogram\")\n",
    "ax.grid()\n",
    "fig.show()"
   ]
  },
  {
   "cell_type": "markdown",
   "metadata": {},
   "source": [
    "### Task 4: power analysis"
   ]
  },
  {
   "cell_type": "markdown",
   "metadata": {},
   "source": [
    "In 1861, 10 essays appeared in the New Orleans Daily Crescent. They\n",
    "were signed “Quintus Curtius Snodgrass” and some people suspected\n",
    "they were actually written by Mark Twain. To investigate this, we will\n",
    "consider the proportion of three letter words found in an author’s work.\n",
    "From eight Twain essays we have:"
   ]
  },
  {
   "cell_type": "code",
   "execution_count": 23,
   "metadata": {},
   "outputs": [],
   "source": [
    "X = np.array([.225, .262, .217, .240, .230, .229, .235, .217])"
   ]
  },
  {
   "cell_type": "markdown",
   "metadata": {},
   "source": [
    "From 10 Snodgrass essays we have:"
   ]
  },
  {
   "cell_type": "code",
   "execution_count": 24,
   "metadata": {},
   "outputs": [],
   "source": [
    "Y = np.array([.209, .205, .196, .210, .202, .207, .224, .223, .220, .201])"
   ]
  },
  {
   "cell_type": "markdown",
   "metadata": {},
   "source": [
    "1. Perform a Wald test for equality of the means. Use the nonparametric plug-in estimator. Report the p-value and a 95% confidence\n",
    "interval for the difference of means. What do you conclude? (1.5 points)\n",
    "\n",
    "##### As nonparametric plug-in estimator we'll use sample mean and sample variance. \n",
    "##### Let us have:\n",
    "$\\delta = \\mu_X - \\mu_Y$, \n",
    "\n",
    "$\\hat{\\delta} = \\bar{X} - \\bar{Y}$, where $\\bar{X}$ and $\\bar{Y}$ are sample means,\n",
    "\n",
    "$\\hat{se} = \\sqrt{\\frac{\\hat{s}_1^2}{m} + \\frac{\\hat{s}_2^2}{n}}$, $\\hat{s}^2_1$ and $\\hat{s}^2_2$ are the sample variances.\n",
    "\n",
    "The hypothesis is formulated as follows:\n",
    "\n",
    "$H_0$: $\\delta = 0$ vs. $H_1$: $\\delta \\neq 0$."
   ]
  },
  {
   "cell_type": "code",
   "execution_count": 25,
   "metadata": {},
   "outputs": [
    {
     "name": "stdout",
     "output_type": "stream",
     "text": [
      "Mean of X: 0.231875\n",
      "Mean of Y: 0.2097\n"
     ]
    }
   ],
   "source": [
    "alpha = 0.05\n",
    "\n",
    "X_mean = np.mean(X)\n",
    "Y_mean = np.mean(Y)\n",
    "print('Mean of X:', X_mean)\n",
    "print('Mean of Y:', Y_mean)\n",
    "X_var = np.var(X)\n",
    "Y_var = np.var(Y)\n",
    "\n",
    "def wald_test_new(mean1, mean2, var1, var2, n1, n2, h0 = 0, alpha=alpha):\n",
    "    dif = mean1 - mean2\n",
    "    se = np.sqrt(var1 / n1 + var2 / n2)\n",
    "    z_a = sps.norm.ppf(1 - alpha/2)\n",
    "    statistic = np.abs((dif - h0) / se)\n",
    "    pvalue = 2 * sps.norm.cdf(-statistic)\n",
    "    is_h0 = 'accepted' if statistic <= z_a else 'rejected'\n",
    "    conf_interval = (dif - se * z_a, dif + se * z_a)\n",
    "    return pvalue, is_h0, conf_interval"
   ]
  },
  {
   "cell_type": "code",
   "execution_count": 26,
   "metadata": {},
   "outputs": [
    {
     "name": "stdout",
     "output_type": "stream",
     "text": [
      "Got pvalue 7.9926649561458e-05\n",
      "Hypothesis H0 is rejected\n",
      "Confidence interval: (0.011156903889404914, 0.03319309611059509)\n",
      "delta = 0 not in the confidence interval\n"
     ]
    }
   ],
   "source": [
    "pvalue_twain, is_h0, interval = wald_test_new(X_mean, Y_mean, X_var, Y_var, X.shape[0], Y.shape[0])\n",
    "print('Got pvalue', pvalue_twain)\n",
    "print('Hypothesis H0 is', is_h0)\n",
    "print('Confidence interval:', interval)\n",
    "if ((interval[0] < 0) and (interval[1] > 0)):\n",
    "    is_in_interval = 'in'\n",
    "else:\n",
    "    is_in_interval = 'not in'\n",
    "print('delta = 0 ' + is_in_interval + ' the confidence interval')"
   ]
  },
  {
   "cell_type": "markdown",
   "metadata": {},
   "source": [
    "##### We can reject the null hypothesis either by applying Wald criterion (comparing our statistic with the quantile) or by looking at the confidence interval which does not include $\\delta = 0$ (corresponding to $H_0$). \n",
    "##### Low p-value confirms our decision to accept alternative hypothesis."
   ]
  },
  {
   "cell_type": "markdown",
   "metadata": {},
   "source": [
    "2. Now use a permutation test to avoid the use of large sample methods.\n",
    "What is your conclusion? (Brinegar (1963)) (1.5 points)"
   ]
  },
  {
   "cell_type": "markdown",
   "metadata": {},
   "source": [
    "##### For the permutation test we suggest the null hypothesis $H_0$: distributions for $X$ and $Y$ are the same ($F_X = F_Y$), vs. alternative hypothesis $H_1$: distributions for $X$ and $Y$ are different. \n",
    "##### As a test statistic we take difference of two means: $T = | \\bar{X} - \\bar{Y} |$, and now we do a permutation test (the function is provided above for one of the previous tasks, now it's the same):"
   ]
  },
  {
   "cell_type": "code",
   "execution_count": 27,
   "metadata": {},
   "outputs": [
    {
     "name": "stdout",
     "output_type": "stream",
     "text": [
      "0.00058\n"
     ]
    }
   ],
   "source": [
    "def T(X, Y):\n",
    "    return np.abs(np.mean(X) - np.mean(Y))\n",
    "\n",
    "pvalue_twain, _ = permutation_test(T, X, Y, n_runs=50000)\n",
    "print(pvalue_twain)"
   ]
  },
  {
   "cell_type": "markdown",
   "metadata": {},
   "source": [
    "##### Using permutation test we still got very low p-value ($< 0.05$) which means that we can reject $H_0$. So, we can claim that this result of difference of distributions for $X$ and $Y$ is statistically significant."
   ]
  },
  {
   "cell_type": "markdown",
   "metadata": {},
   "source": [
    "3. Assume that samples do indeed come from different populations. Additionally, observed sample means and variaces for the two samples are equal to the true values for the respective population. Estimate the power of the two tests above under two model distributions for the data: Normal and [Beta](https://en.wikipedia.org/wiki/Beta_distribution) (2 points)"
   ]
  },
  {
   "cell_type": "markdown",
   "metadata": {},
   "source": [
    "##### To test the power of tests we'll create samples from two mentioned distributions a lot of times and see how often do they reject the null hypothesis when it's actually false.\n",
    "##### Take significance level, as usual, equal to 5%.\n",
    "##### To find the parameters for normal and beta distributions, we'll use formulas for first and second moments of these distributions, plug in sample mean and sample variance instead of them and thus express the parameters, containing in formulas for moments (formulas taken from Wikipedia)"
   ]
  },
  {
   "cell_type": "code",
   "execution_count": 28,
   "metadata": {},
   "outputs": [],
   "source": [
    "def normal_model(mu, sigma, n_samples=100):\n",
    "    return sps.norm.rvs(loc=mu, scale=sigma, size=n_samples)\n",
    "    \n",
    "def beta_model(a, b, n_samples=100):\n",
    "    return sps.beta.rvs(a, b, size=n_samples)\n",
    "\n",
    "def T(x, y):\n",
    "    return np.abs(np.mean(x) - np.mean(y))"
   ]
  },
  {
   "cell_type": "code",
   "execution_count": 29,
   "metadata": {},
   "outputs": [],
   "source": [
    "Wald_power = 0\n",
    "Permutation_power = 0\n",
    "iters = 1000\n",
    "n_runs = 10000\n",
    "alpha = 0.05\n",
    "\n",
    "for _ in range(iters):\n",
    "    X_1 = normal_model(X_mean, X_var, n_samples=len(X))\n",
    "    Y_1 = normal_model(Y_mean, Y_var, n_samples=len(Y))\n",
    "    mean1 = np.mean(X_1)\n",
    "    mean2 = np.mean(Y_1)\n",
    "    var1 = np.var(X_1)\n",
    "    var2 = np.var(Y_1)\n",
    "    pv, is_h0, c_interval = wald_test_new(mean1, mean2, var1, var2, len(X), len(Y), h0 = 0, alpha=alpha)\n",
    "    Wald_power += pv < alpha\n",
    "    pv, t_ = permutation_test(T, X_1, Y_1, n_runs = n_runs)\n",
    "    Permutation_power += pv < alpha"
   ]
  },
  {
   "cell_type": "code",
   "execution_count": 30,
   "metadata": {},
   "outputs": [
    {
     "name": "stdout",
     "output_type": "stream",
     "text": [
      "Normal distribution:\n",
      "Power of Wald test: 1.0\n",
      "Power of Permutations test: 1.0\n"
     ]
    }
   ],
   "source": [
    "print(\"Normal distribution:\")\n",
    "print('Power of Wald test:', Wald_power / iters)\n",
    "print('Power of Permutations test:', Permutation_power / iters)"
   ]
  },
  {
   "cell_type": "code",
   "execution_count": 31,
   "metadata": {},
   "outputs": [],
   "source": [
    "Wald_power = 0\n",
    "Permutation_power = 0\n",
    "iters = 1000\n",
    "n_runs = 10000\n",
    "alpha = 0.05\n",
    "\n",
    "gamma1 = X_mean * (1 - X_mean) / X_var - 1\n",
    "a_1 = gamma1 * X_mean\n",
    "b_1 = gamma1 - a_1\n",
    "gamma2 = Y_mean * (1 - Y_mean) / Y_var - 1\n",
    "a_2 = gamma2 * Y_mean\n",
    "b_2 = gamma2 - a_2\n",
    "\n",
    "for _ in range(iters):\n",
    "    X_1 = beta_model(a_1, b_1, n_samples=len(X))\n",
    "    Y_1 = beta_model(a_2, b_2, n_samples=len(Y))\n",
    "    mean1 = np.mean(X_1)\n",
    "    mean2 = np.mean(Y_1)\n",
    "    var1 = np.var(X_1)\n",
    "    var2 = np.var(Y_1)\n",
    "    pv, is_h0, c_interval = wald_test_new(mean1, mean2, var1, var2, len(X), len(Y), h0 = 0, alpha=alpha)\n",
    "    Wald_power += pv < alpha\n",
    "    pv, t_ = permutation_test(T, X_1, Y_1, n_runs = n_runs)\n",
    "    Permutation_power += pv < alpha"
   ]
  },
  {
   "cell_type": "code",
   "execution_count": 32,
   "metadata": {},
   "outputs": [
    {
     "name": "stdout",
     "output_type": "stream",
     "text": [
      "Beta distribution:\n",
      "Power of Wald test: 0.977\n",
      "Power of Permutations test: 0.971\n"
     ]
    }
   ],
   "source": [
    "print(\"Beta distribution:\")\n",
    "print('Power of Wald test:', Wald_power / iters)\n",
    "print('Power of Permutations test:', Permutation_power / iters)"
   ]
  },
  {
   "cell_type": "markdown",
   "metadata": {},
   "source": [
    "##### For both distributions we got that both tests have almost the same power. But for Beta-distribution the power is lower in general which may mean that normal distribution is preferable for this case though it is hard to say whether this difference is significant."
   ]
  },
  {
   "cell_type": "markdown",
   "metadata": {},
   "source": [
    "##### Let's lower the significance level to 1% and look at new results. "
   ]
  },
  {
   "cell_type": "code",
   "execution_count": 37,
   "metadata": {},
   "outputs": [
    {
     "name": "stdout",
     "output_type": "stream",
     "text": [
      "Normal distribution, alpha = 0.01:\n",
      "Power of Wald test: 1.0\n",
      "Power of Permutations test: 1.0\n"
     ]
    }
   ],
   "source": [
    "Wald_power = 0\n",
    "Permutation_power = 0\n",
    "iters = 1000\n",
    "n_runs = 10000\n",
    "alpha = 0.01\n",
    "\n",
    "for _ in range(iters):\n",
    "    X_1 = normal_model(X_mean, X_var, n_samples=len(X))\n",
    "    Y_1 = normal_model(Y_mean, Y_var, n_samples=len(Y))\n",
    "    mean1 = np.mean(X_1)\n",
    "    mean2 = np.mean(Y_1)\n",
    "    var1 = np.var(X_1)\n",
    "    var2 = np.var(Y_1)\n",
    "    pv, is_h0, c_interval = wald_test_new(mean1, mean2, var1, var2, len(X), len(Y), h0 = 0, alpha=alpha)\n",
    "    Wald_power += pv < alpha\n",
    "    pv, t_ = permutation_test(T, X_1, Y_1, n_runs = n_runs)\n",
    "    Permutation_power += pv < alpha\n",
    "\n",
    "print(\"Normal distribution, alpha = 0.01:\")\n",
    "print('Power of Wald test:', Wald_power / iters)\n",
    "print('Power of Permutations test:', Permutation_power / iters)"
   ]
  },
  {
   "cell_type": "code",
   "execution_count": 38,
   "metadata": {},
   "outputs": [
    {
     "name": "stdout",
     "output_type": "stream",
     "text": [
      "Beta distribution, alpha = 0.01:\n",
      "Power of Wald test: 0.927\n",
      "Power of Permutations test: 0.871\n"
     ]
    }
   ],
   "source": [
    "Wald_power = 0\n",
    "Permutation_power = 0\n",
    "iters = 1000\n",
    "n_runs = 10000\n",
    "alpha = 0.01\n",
    "\n",
    "gamma1 = X_mean * (1 - X_mean) / X_var - 1\n",
    "a_1 = gamma1 * X_mean\n",
    "b_1 = gamma1 - a_1\n",
    "gamma2 = Y_mean * (1 - Y_mean) / Y_var - 1\n",
    "a_2 = gamma2 * Y_mean\n",
    "b_2 = gamma2 - a_2\n",
    "\n",
    "for _ in range(iters):\n",
    "    X_1 = beta_model(a_1, b_1, n_samples=len(X))\n",
    "    Y_1 = beta_model(a_2, b_2, n_samples=len(Y))\n",
    "    mean1 = np.mean(X_1)\n",
    "    mean2 = np.mean(Y_1)\n",
    "    var1 = np.var(X_1)\n",
    "    var2 = np.var(Y_1)\n",
    "    pv, is_h0, c_interval = wald_test_new(mean1, mean2, var1, var2, len(X), len(Y), h0 = 0, alpha=alpha)\n",
    "    Wald_power += pv < alpha\n",
    "    pv, t_ = permutation_test(T, X_1, Y_1, n_runs = n_runs)\n",
    "    Permutation_power += pv < alpha\n",
    "\n",
    "print(\"Beta distribution, alpha = 0.01:\")\n",
    "print('Power of Wald test:', Wald_power / iters)\n",
    "print('Power of Permutations test:', Permutation_power / iters)"
   ]
  },
  {
   "cell_type": "markdown",
   "metadata": {},
   "source": [
    "##### We still got that for normal distribution, the tests are almost equal in power, for beta distribution, Wald test is more powerful (though for 5% significance level the difference is not so meaningful) and that normal distribution is better in avoiding 2-type errors (the tests in general are more powerful)."
   ]
  }
 ],
 "metadata": {
  "kernelspec": {
   "display_name": "Python 3",
   "language": "python",
   "name": "python3"
  },
  "language_info": {
   "codemirror_mode": {
    "name": "ipython",
    "version": 3
   },
   "file_extension": ".py",
   "mimetype": "text/x-python",
   "name": "python",
   "nbconvert_exporter": "python",
   "pygments_lexer": "ipython3",
   "version": "3.7.0"
  }
 },
 "nbformat": 4,
 "nbformat_minor": 4
}
